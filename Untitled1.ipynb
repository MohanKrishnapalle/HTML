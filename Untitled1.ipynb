{
 "cells": [
  {
   "cell_type": "code",
   "execution_count": 1,
   "id": "68cd18e6-b247-4f6b-b2f2-95992acae152",
   "metadata": {},
   "outputs": [
    {
     "name": "stdout",
     "output_type": "stream",
     "text": [
      "Requirement already satisfied: speechrecognition in c:\\users\\ramaj\\anaconda3\\lib\\site-packages (3.10.4)\n",
      "Requirement already satisfied: gtts in c:\\users\\ramaj\\anaconda3\\lib\\site-packages (2.5.3)\n",
      "Requirement already satisfied: transformers in c:\\users\\ramaj\\anaconda3\\lib\\site-packages (4.48.2)\n",
      "Requirement already satisfied: torch in c:\\users\\ramaj\\anaconda3\\lib\\site-packages (2.4.1)\n",
      "Requirement already satisfied: playsound in c:\\users\\ramaj\\anaconda3\\lib\\site-packages (1.3.0)\n",
      "Requirement already satisfied: requests>=2.26.0 in c:\\users\\ramaj\\anaconda3\\lib\\site-packages (from speechrecognition) (2.31.0)\n",
      "Requirement already satisfied: typing-extensions in c:\\users\\ramaj\\anaconda3\\lib\\site-packages (from speechrecognition) (4.9.0)\n",
      "Requirement already satisfied: click<8.2,>=7.1 in c:\\users\\ramaj\\anaconda3\\lib\\site-packages (from gtts) (8.1.7)\n",
      "Requirement already satisfied: filelock in c:\\users\\ramaj\\anaconda3\\lib\\site-packages (from transformers) (3.13.1)\n",
      "Requirement already satisfied: huggingface-hub<1.0,>=0.24.0 in c:\\users\\ramaj\\anaconda3\\lib\\site-packages (from transformers) (0.28.1)\n",
      "Requirement already satisfied: numpy>=1.17 in c:\\users\\ramaj\\anaconda3\\lib\\site-packages (from transformers) (1.26.4)\n",
      "Requirement already satisfied: packaging>=20.0 in c:\\users\\ramaj\\anaconda3\\lib\\site-packages (from transformers) (23.1)\n",
      "Requirement already satisfied: pyyaml>=5.1 in c:\\users\\ramaj\\anaconda3\\lib\\site-packages (from transformers) (6.0.1)\n",
      "Requirement already satisfied: regex!=2019.12.17 in c:\\users\\ramaj\\anaconda3\\lib\\site-packages (from transformers) (2023.10.3)\n",
      "Requirement already satisfied: tokenizers<0.22,>=0.21 in c:\\users\\ramaj\\anaconda3\\lib\\site-packages (from transformers) (0.21.0)\n",
      "Requirement already satisfied: safetensors>=0.4.1 in c:\\users\\ramaj\\anaconda3\\lib\\site-packages (from transformers) (0.5.2)\n",
      "Requirement already satisfied: tqdm>=4.27 in c:\\users\\ramaj\\anaconda3\\lib\\site-packages (from transformers) (4.65.0)\n",
      "Requirement already satisfied: sympy in c:\\users\\ramaj\\anaconda3\\lib\\site-packages (from torch) (1.12)\n",
      "Requirement already satisfied: networkx in c:\\users\\ramaj\\anaconda3\\lib\\site-packages (from torch) (3.1)\n",
      "Requirement already satisfied: jinja2 in c:\\users\\ramaj\\anaconda3\\lib\\site-packages (from torch) (3.1.3)\n",
      "Requirement already satisfied: fsspec in c:\\users\\ramaj\\anaconda3\\lib\\site-packages (from torch) (2023.10.0)\n",
      "Requirement already satisfied: colorama in c:\\users\\ramaj\\anaconda3\\lib\\site-packages (from click<8.2,>=7.1->gtts) (0.4.6)\n",
      "Requirement already satisfied: charset-normalizer<4,>=2 in c:\\users\\ramaj\\anaconda3\\lib\\site-packages (from requests>=2.26.0->speechrecognition) (2.0.4)\n",
      "Requirement already satisfied: idna<4,>=2.5 in c:\\users\\ramaj\\anaconda3\\lib\\site-packages (from requests>=2.26.0->speechrecognition) (3.4)\n",
      "Requirement already satisfied: urllib3<3,>=1.21.1 in c:\\users\\ramaj\\anaconda3\\lib\\site-packages (from requests>=2.26.0->speechrecognition) (2.0.7)\n",
      "Requirement already satisfied: certifi>=2017.4.17 in c:\\users\\ramaj\\anaconda3\\lib\\site-packages (from requests>=2.26.0->speechrecognition) (2024.2.2)\n",
      "Requirement already satisfied: MarkupSafe>=2.0 in c:\\users\\ramaj\\anaconda3\\lib\\site-packages (from jinja2->torch) (2.1.3)\n",
      "Requirement already satisfied: mpmath>=0.19 in c:\\users\\ramaj\\anaconda3\\lib\\site-packages (from sympy->torch) (1.3.0)\n"
     ]
    }
   ],
   "source": [
    "!pip install speechrecognition gtts transformers torch playsound"
   ]
  },
  {
   "cell_type": "code",
   "execution_count": 2,
   "id": "f14f24a3-297d-4302-8681-506fa39ac60a",
   "metadata": {},
   "outputs": [
    {
     "name": "stdout",
     "output_type": "stream",
     "text": [
      "Requirement already satisfied: pyaudio in c:\\users\\ramaj\\anaconda3\\lib\\site-packages (0.2.14)\n",
      "Note: you may need to restart the kernel to use updated packages.\n"
     ]
    }
   ],
   "source": [
    "pip install pyaudio"
   ]
  },
  {
   "cell_type": "code",
   "execution_count": 7,
   "id": "aeabac68-daf1-4855-b2fb-46cb67e873b1",
   "metadata": {},
   "outputs": [
    {
     "name": "stderr",
     "output_type": "stream",
     "text": [
      "Device set to use cpu\n"
     ]
    },
    {
     "name": "stdout",
     "output_type": "stream",
     "text": [
      "Listening...\n",
      "Recognizing...\n",
      "You said: hello\n",
      "Bot: Hello! How can I assist you today?\n"
     ]
    },
    {
     "data": {
      "text/html": [
       "\n",
       "                <audio  controls=\"controls\" autoplay=\"autoplay\">\n",
       "                    <source src=\"data:audio/mpeg;base64,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\" type=\"audio/mpeg\" />\n",
       "                    Your browser does not support the audio element.\n",
       "                </audio>\n",
       "              "
      ],
      "text/plain": [
       "<IPython.lib.display.Audio object>"
      ]
     },
     "execution_count": 7,
     "metadata": {},
     "output_type": "execute_result"
    }
   ],
   "source": [
    "import speech_recognition as sr\n",
    "from gtts import gTTS\n",
    "import os\n",
    "import torch\n",
    "from transformers import pipeline\n",
    "import tensorflow as tf\n",
    "import warnings\n",
    "from IPython.display import Audio  # Use Jupyter-compatible audio playback\n",
    "\n",
    "warnings.filterwarnings(\"ignore\")\n",
    "tf.compat.v1.logging.set_verbosity(tf.compat.v1.logging.ERROR)\n",
    "\n",
    "# Load NLP model\n",
    "nlp_model = pipeline(\"text-classification\", model=\"facebook/bart-large-mnli\")\n",
    "\n",
    "# Intent responses\n",
    "intent_responses = {\n",
    "    \"billing\": \"I see you have a billing query. Please check your email for the latest invoice or visit our website.\",\n",
    "    \"technical_support\": \"You're having technical issues. Please try restarting your device. If the issue persists, contact support.\",\n",
    "    \"order_status\": \"To track your order, please visit our order tracking page and enter your order number.\",\n",
    "    \"greeting\": \"Hello! How can I assist you today?\",\n",
    "    \"fallback\": \"I'm sorry, but I didn't understand that. Can you please rephrase?\",\n",
    "    \"hello\": \"Hi how can i help you\"\n",
    "}\n",
    "\n",
    "# Function to recognize speech\n",
    "def speech_to_text():\n",
    "    recognizer = sr.Recognizer()\n",
    "    with sr.Microphone() as source:\n",
    "        print(\"Listening...\")\n",
    "        recognizer.adjust_for_ambient_noise(source)\n",
    "        audio = recognizer.listen(source)\n",
    "\n",
    "    try:\n",
    "        print(\"Recognizing...\")\n",
    "        text = recognizer.recognize_google(audio)\n",
    "        print(f\"You said: {text}\")\n",
    "        return text\n",
    "    except sr.UnknownValueError:\n",
    "        print(\"Could not understand the audio\")\n",
    "        return None\n",
    "    except sr.RequestError:\n",
    "        print(\"Speech Recognition service error\")\n",
    "        return None\n",
    "\n",
    "# Function to classify intent\n",
    "def get_intent(text):\n",
    "    result = nlp_model(text)\n",
    "    label = result[0][\"label\"]\n",
    "    \n",
    "    if \"billing\" in label.lower():\n",
    "        return \"billing\"\n",
    "    elif \"technical\" in label.lower():\n",
    "        return \"technical_support\"\n",
    "    elif \"order\" in label.lower():\n",
    "        return \"order_status\"\n",
    "    elif \"hello\" in text.lower() or \"hi\" in text.lower():\n",
    "        return \"greeting\"\n",
    "    else:\n",
    "        return \"fallback\"\n",
    "\n",
    "# Function to convert text to speech\n",
    "def text_to_speech(response):\n",
    "    tts = gTTS(response, lang=\"en\")\n",
    "    audio_path = \"response.mp3\"\n",
    "    tts.save(audio_path)\n",
    "    return Audio(audio_path, autoplay=True)  # Jupyter Notebook-friendly audio playback\n",
    "\n",
    "# Main function\n",
    "def voice_assistant():\n",
    "    user_input = speech_to_text()\n",
    "    if user_input:\n",
    "        intent = get_intent(user_input)\n",
    "        response = intent_responses.get(intent, \"I'm not sure how to help with that.\")\n",
    "        print(f\"Bot: {response}\")\n",
    "        return text_to_speech(response)  # Return audio for Jupyter Notebook\n",
    "\n",
    "# Run in Jupyter Notebook\n",
    "voice_assistant()"
   ]
  }
 ],
 "metadata": {
  "kernelspec": {
   "display_name": "Python 3 (ipykernel)",
   "language": "python",
   "name": "python3"
  },
  "language_info": {
   "codemirror_mode": {
    "name": "ipython",
    "version": 3
   },
   "file_extension": ".py",
   "mimetype": "text/x-python",
   "name": "python",
   "nbconvert_exporter": "python",
   "pygments_lexer": "ipython3",
   "version": "3.11.7"
  }
 },
 "nbformat": 4,
 "nbformat_minor": 5
}
